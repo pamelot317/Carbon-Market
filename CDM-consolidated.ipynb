{
 "cells": [
  {
   "cell_type": "code",
   "execution_count": 11,
   "metadata": {
    "collapsed": true,
    "hideCode": true,
    "hidePrompt": true
   },
   "outputs": [],
   "source": [
    "import pandas as pd\n",
    "import numpy as np\n",
    "import openpyxl\n",
    "import xlrd\n",
    "import xlwt\n",
    "import xlsxwriter\n",
    "import math"
   ]
  },
  {
   "cell_type": "code",
   "execution_count": 12,
   "metadata": {
    "collapsed": false,
    "hideCode": true,
    "hidePrompt": true
   },
   "outputs": [],
   "source": [
    "tallies_file = \"CDMStatesAndProvinces.xlsx\"\n",
    "tallies = pd.ExcelFile(tallies_file)\n",
    "n = len(tallies.sheet_names) - 1"
   ]
  },
  {
   "cell_type": "code",
   "execution_count": 13,
   "metadata": {
    "collapsed": false,
    "hideCode": true,
    "hidePrompt": true
   },
   "outputs": [],
   "source": [
    "test = tallies.parse('Albania')\n",
    "test = test.drop(test.index[0])\n",
    "header = test.iloc[0]\n",
    "test = test[1:]\n",
    "test = test.rename(columns = header)\n",
    "test = test.loc['Total',:]\n",
    "test = test.to_frame().transpose()\n",
    "test = test.rename({'Total': 'Albania'})\n",
    "test = test.iloc[:,0:27]"
   ]
  },
  {
   "cell_type": "code",
   "execution_count": 14,
   "metadata": {
    "collapsed": false,
    "hideCode": true,
    "hidePrompt": true
   },
   "outputs": [],
   "source": [
    "columns = test.columns.tolist()\n",
    "tallies_sheets = []\n",
    "for sheet in tallies.sheet_names[1:]:\n",
    "    df = tallies.parse(sheet)\n",
    "    df = df.drop(df.index[0])\n",
    "    header = df.iloc[0]\n",
    "    df = df[1:]\n",
    "    df = df.rename(columns = header)\n",
    "    df = df.loc['Total',:]\n",
    "    df = df.to_frame().transpose()\n",
    "    df = df.rename({'Total': sheet})\n",
    "    df = df.iloc[:,0:27]\n",
    "    df.columns = columns\n",
    "    tallies_sheets.append(df)"
   ]
  },
  {
   "cell_type": "code",
   "execution_count": 15,
   "metadata": {
    "collapsed": false,
    "hideCode": true,
    "hidePrompt": true
   },
   "outputs": [],
   "source": [
    "cdm_df = pd.concat(tallies_sheets)"
   ]
  },
  {
   "cell_type": "code",
   "execution_count": 16,
   "metadata": {
    "collapsed": false,
    "hideCode": true,
    "hidePrompt": true
   },
   "outputs": [],
   "source": [
    "cdm_df['Total'] = cdm_df.sum(axis=1)"
   ]
  },
  {
   "cell_type": "code",
   "execution_count": 17,
   "metadata": {
    "collapsed": false,
    "hideCode": true,
    "hidePrompt": true
   },
   "outputs": [],
   "source": [
    "cols = [cdm_df.columns[-1]] + [col for col in cdm_df if col != cdm_df.columns[-1]]\n",
    "cdm_df = cdm_df[cols]"
   ]
  },
  {
   "cell_type": "code",
   "execution_count": 18,
   "metadata": {
    "collapsed": false,
    "hideCode": true,
    "hidePrompt": true
   },
   "outputs": [],
   "source": [
    "# Create a Pandas Excel writer using XlsxWriter as the engine.\n",
    "writer = pd.ExcelWriter('cdm_consolidated.xlsx', engine='xlsxwriter')\n",
    "\n",
    "# Convert the dataframe to an XlsxWriter Excel object.\n",
    "cdm_df.to_excel(writer, sheet_name='Sheet1')\n",
    "\n",
    "# Close the Pandas Excel writer and output the Excel file.\n",
    "writer.save()"
   ]
  },
  {
   "cell_type": "code",
   "execution_count": null,
   "metadata": {
    "collapsed": false,
    "hideCode": true,
    "hidePrompt": true
   },
   "outputs": [],
   "source": []
  }
 ],
 "metadata": {
  "anaconda-cloud": {},
  "hide_code_all_hidden": true,
  "kernelspec": {
   "display_name": "Python [conda root]",
   "language": "python",
   "name": "conda-root-py"
  },
  "language_info": {
   "codemirror_mode": {
    "name": "ipython",
    "version": 2
   },
   "file_extension": ".py",
   "mimetype": "text/x-python",
   "name": "python",
   "nbconvert_exporter": "python",
   "pygments_lexer": "ipython2",
   "version": "2.7.12"
  }
 },
 "nbformat": 4,
 "nbformat_minor": 2
}
