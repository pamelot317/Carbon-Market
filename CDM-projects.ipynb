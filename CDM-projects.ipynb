{
 "cells": [
  {
   "cell_type": "code",
   "execution_count": 12,
   "metadata": {
    "collapsed": true
   },
   "outputs": [],
   "source": [
    "import pandas as pd\n",
    "import numpy as np\n",
    "import openpyxl\n",
    "import xlrd\n",
    "import xlwt\n",
    "import xlsxwriter\n",
    "import math"
   ]
  },
  {
   "cell_type": "code",
   "execution_count": 2,
   "metadata": {
    "collapsed": true
   },
   "outputs": [],
   "source": [
    "path = \"Database for PAs and PoAs.xlsx\"\n",
    "data = pd.ExcelFile(path)"
   ]
  },
  {
   "cell_type": "code",
   "execution_count": 13,
   "metadata": {
    "collapsed": true
   },
   "outputs": [],
   "source": [
    "project_df = data.parse('CDM activities')\n",
    "project_country = project_df.sort_values('List of Host countries (ISO 2)')"
   ]
  },
  {
   "cell_type": "code",
   "execution_count": 14,
   "metadata": {
    "collapsed": true
   },
   "outputs": [],
   "source": [
    "cols = ['List of Host countries (ISO 2)']  + [col for col in project_country if col != 'List of Host countries (ISO 2)']\n",
    "project_country = project_country[cols]"
   ]
  },
  {
   "cell_type": "code",
   "execution_count": 15,
   "metadata": {
    "collapsed": false
   },
   "outputs": [
    {
     "ename": "Exception",
     "evalue": "Excel worksheet name 'AE; AL; BH; CY; EG; JO; KW; LB; LY; MA; OM; PK; QA; SA; TN' must be <= 31 chars.",
     "output_type": "error",
     "traceback": [
      "\u001b[0;31m---------------------------------------------------------------------------\u001b[0m",
      "\u001b[0;31mException\u001b[0m                                 Traceback (most recent call last)",
      "\u001b[0;32m<ipython-input-15-4102ea873503>\u001b[0m in \u001b[0;36m<module>\u001b[0;34m()\u001b[0m\n\u001b[1;32m      5\u001b[0m \u001b[0;32mfor\u001b[0m \u001b[0mmyname\u001b[0m \u001b[0;32min\u001b[0m \u001b[0mnames\u001b[0m\u001b[0;34m:\u001b[0m\u001b[0;34m\u001b[0m\u001b[0m\n\u001b[1;32m      6\u001b[0m     \u001b[0mmydf\u001b[0m \u001b[0;34m=\u001b[0m \u001b[0mproject_country\u001b[0m\u001b[0;34m.\u001b[0m\u001b[0mloc\u001b[0m\u001b[0;34m[\u001b[0m\u001b[0mproject_country\u001b[0m\u001b[0;34m[\u001b[0m\u001b[0;34m'List of Host countries (ISO 2)'\u001b[0m\u001b[0;34m]\u001b[0m\u001b[0;34m==\u001b[0m\u001b[0mmyname\u001b[0m\u001b[0;34m]\u001b[0m\u001b[0;34m\u001b[0m\u001b[0m\n\u001b[0;32m----> 7\u001b[0;31m     \u001b[0mmydf\u001b[0m\u001b[0;34m.\u001b[0m\u001b[0mto_excel\u001b[0m\u001b[0;34m(\u001b[0m\u001b[0mwriter\u001b[0m\u001b[0;34m,\u001b[0m \u001b[0msheet_name\u001b[0m\u001b[0;34m=\u001b[0m\u001b[0mmyname\u001b[0m\u001b[0;34m)\u001b[0m\u001b[0;34m\u001b[0m\u001b[0m\n\u001b[0m\u001b[1;32m      8\u001b[0m \u001b[0;34m\u001b[0m\u001b[0m\n\u001b[1;32m      9\u001b[0m \u001b[0mwriter\u001b[0m\u001b[0;34m.\u001b[0m\u001b[0msave\u001b[0m\u001b[0;34m(\u001b[0m\u001b[0;34m)\u001b[0m\u001b[0;34m\u001b[0m\u001b[0m\n",
      "\u001b[0;32m/Users/pampatterson/anaconda2/lib/python2.7/site-packages/pandas/core/frame.pyc\u001b[0m in \u001b[0;36mto_excel\u001b[0;34m(self, excel_writer, sheet_name, na_rep, float_format, columns, header, index, index_label, startrow, startcol, engine, merge_cells, encoding, inf_rep, verbose)\u001b[0m\n\u001b[1;32m   1423\u001b[0m         \u001b[0mformatted_cells\u001b[0m \u001b[0;34m=\u001b[0m \u001b[0mformatter\u001b[0m\u001b[0;34m.\u001b[0m\u001b[0mget_formatted_cells\u001b[0m\u001b[0;34m(\u001b[0m\u001b[0;34m)\u001b[0m\u001b[0;34m\u001b[0m\u001b[0m\n\u001b[1;32m   1424\u001b[0m         excel_writer.write_cells(formatted_cells, sheet_name,\n\u001b[0;32m-> 1425\u001b[0;31m                                  startrow=startrow, startcol=startcol)\n\u001b[0m\u001b[1;32m   1426\u001b[0m         \u001b[0;32mif\u001b[0m \u001b[0mneed_save\u001b[0m\u001b[0;34m:\u001b[0m\u001b[0;34m\u001b[0m\u001b[0m\n\u001b[1;32m   1427\u001b[0m             \u001b[0mexcel_writer\u001b[0m\u001b[0;34m.\u001b[0m\u001b[0msave\u001b[0m\u001b[0;34m(\u001b[0m\u001b[0;34m)\u001b[0m\u001b[0;34m\u001b[0m\u001b[0m\n",
      "\u001b[0;32m/Users/pampatterson/anaconda2/lib/python2.7/site-packages/pandas/io/excel.pyc\u001b[0m in \u001b[0;36mwrite_cells\u001b[0;34m(self, cells, sheet_name, startrow, startcol)\u001b[0m\n\u001b[1;32m   1452\u001b[0m             \u001b[0mwks\u001b[0m \u001b[0;34m=\u001b[0m \u001b[0mself\u001b[0m\u001b[0;34m.\u001b[0m\u001b[0msheets\u001b[0m\u001b[0;34m[\u001b[0m\u001b[0msheet_name\u001b[0m\u001b[0;34m]\u001b[0m\u001b[0;34m\u001b[0m\u001b[0m\n\u001b[1;32m   1453\u001b[0m         \u001b[0;32melse\u001b[0m\u001b[0;34m:\u001b[0m\u001b[0;34m\u001b[0m\u001b[0m\n\u001b[0;32m-> 1454\u001b[0;31m             \u001b[0mwks\u001b[0m \u001b[0;34m=\u001b[0m \u001b[0mself\u001b[0m\u001b[0;34m.\u001b[0m\u001b[0mbook\u001b[0m\u001b[0;34m.\u001b[0m\u001b[0madd_worksheet\u001b[0m\u001b[0;34m(\u001b[0m\u001b[0msheet_name\u001b[0m\u001b[0;34m)\u001b[0m\u001b[0;34m\u001b[0m\u001b[0m\n\u001b[0m\u001b[1;32m   1455\u001b[0m             \u001b[0mself\u001b[0m\u001b[0;34m.\u001b[0m\u001b[0msheets\u001b[0m\u001b[0;34m[\u001b[0m\u001b[0msheet_name\u001b[0m\u001b[0;34m]\u001b[0m \u001b[0;34m=\u001b[0m \u001b[0mwks\u001b[0m\u001b[0;34m\u001b[0m\u001b[0m\n\u001b[1;32m   1456\u001b[0m \u001b[0;34m\u001b[0m\u001b[0m\n",
      "\u001b[0;32m/Users/pampatterson/anaconda2/lib/python2.7/site-packages/xlsxwriter/workbook.pyc\u001b[0m in \u001b[0;36madd_worksheet\u001b[0;34m(self, name)\u001b[0m\n\u001b[1;32m    168\u001b[0m \u001b[0;34m\u001b[0m\u001b[0m\n\u001b[1;32m    169\u001b[0m         \"\"\"\n\u001b[0;32m--> 170\u001b[0;31m         \u001b[0;32mreturn\u001b[0m \u001b[0mself\u001b[0m\u001b[0;34m.\u001b[0m\u001b[0m_add_sheet\u001b[0m\u001b[0;34m(\u001b[0m\u001b[0mname\u001b[0m\u001b[0;34m,\u001b[0m \u001b[0mis_chartsheet\u001b[0m\u001b[0;34m=\u001b[0m\u001b[0mFalse\u001b[0m\u001b[0;34m)\u001b[0m\u001b[0;34m\u001b[0m\u001b[0m\n\u001b[0m\u001b[1;32m    171\u001b[0m \u001b[0;34m\u001b[0m\u001b[0m\n\u001b[1;32m    172\u001b[0m     \u001b[0;32mdef\u001b[0m \u001b[0madd_chartsheet\u001b[0m\u001b[0;34m(\u001b[0m\u001b[0mself\u001b[0m\u001b[0;34m,\u001b[0m \u001b[0mname\u001b[0m\u001b[0;34m=\u001b[0m\u001b[0mNone\u001b[0m\u001b[0;34m)\u001b[0m\u001b[0;34m:\u001b[0m\u001b[0;34m\u001b[0m\u001b[0m\n",
      "\u001b[0;32m/Users/pampatterson/anaconda2/lib/python2.7/site-packages/xlsxwriter/workbook.pyc\u001b[0m in \u001b[0;36m_add_sheet\u001b[0;34m(self, name, is_chartsheet)\u001b[0m\n\u001b[1;32m    631\u001b[0m \u001b[0;34m\u001b[0m\u001b[0m\n\u001b[1;32m    632\u001b[0m         \u001b[0msheet_index\u001b[0m \u001b[0;34m=\u001b[0m \u001b[0mlen\u001b[0m\u001b[0;34m(\u001b[0m\u001b[0mself\u001b[0m\u001b[0;34m.\u001b[0m\u001b[0mworksheets_objs\u001b[0m\u001b[0;34m)\u001b[0m\u001b[0;34m\u001b[0m\u001b[0m\n\u001b[0;32m--> 633\u001b[0;31m         \u001b[0mname\u001b[0m \u001b[0;34m=\u001b[0m \u001b[0mself\u001b[0m\u001b[0;34m.\u001b[0m\u001b[0m_check_sheetname\u001b[0m\u001b[0;34m(\u001b[0m\u001b[0mname\u001b[0m\u001b[0;34m,\u001b[0m \u001b[0mis_chartsheet\u001b[0m\u001b[0;34m)\u001b[0m\u001b[0;34m\u001b[0m\u001b[0m\n\u001b[0m\u001b[1;32m    634\u001b[0m \u001b[0;34m\u001b[0m\u001b[0m\n\u001b[1;32m    635\u001b[0m         \u001b[0;31m# Initialization data to pass to the worksheet.\u001b[0m\u001b[0;34m\u001b[0m\u001b[0;34m\u001b[0m\u001b[0m\n",
      "\u001b[0;32m/Users/pampatterson/anaconda2/lib/python2.7/site-packages/xlsxwriter/workbook.pyc\u001b[0m in \u001b[0;36m_check_sheetname\u001b[0;34m(self, sheetname, is_chartsheet)\u001b[0m\n\u001b[1;32m    684\u001b[0m         \u001b[0;32mif\u001b[0m \u001b[0mlen\u001b[0m\u001b[0;34m(\u001b[0m\u001b[0msheetname\u001b[0m\u001b[0;34m)\u001b[0m \u001b[0;34m>\u001b[0m \u001b[0;36m31\u001b[0m\u001b[0;34m:\u001b[0m\u001b[0;34m\u001b[0m\u001b[0m\n\u001b[1;32m    685\u001b[0m             raise Exception(\"Excel worksheet name '%s' must be <= 31 chars.\" %\n\u001b[0;32m--> 686\u001b[0;31m                             sheetname)\n\u001b[0m\u001b[1;32m    687\u001b[0m \u001b[0;34m\u001b[0m\u001b[0m\n\u001b[1;32m    688\u001b[0m         \u001b[0;31m# Check that sheetname doesn't contain any invalid characters\u001b[0m\u001b[0;34m\u001b[0m\u001b[0;34m\u001b[0m\u001b[0m\n",
      "\u001b[0;31mException\u001b[0m: Excel worksheet name 'AE; AL; BH; CY; EG; JO; KW; LB; LY; MA; OM; PK; QA; SA; TN' must be <= 31 chars."
     ]
    }
   ],
   "source": [
    "names = project_country['List of Host countries (ISO 2)'].unique().tolist()\n",
    "\n",
    "writer = pd.ExcelWriter(\"cdm_projects_country2.xlsx\", engine='xlsxwriter')\n",
    "\n",
    "for myname in names:\n",
    "    mydf = project_country.loc[project_country['List of Host countries (ISO 2)']==myname]\n",
    "    mydf.to_excel(writer, sheet_name=myname)\n",
    "\n",
    "writer.save()"
   ]
  },
  {
   "cell_type": "code",
   "execution_count": 5,
   "metadata": {
    "collapsed": false
   },
   "outputs": [],
   "source": [
    "project_country = project_country.replace({'List of Host countries (ISO 2)': 'AE'}, {'List of Host countries (ISO 2)': 'United Arab Emirates'}, regex=True)\n",
    "project_country = project_country.replace({'List of Host countries (ISO 2)': 'AF'}, {'List of Host countries (ISO 2)': 'Afghanistan'}, regex=True)\n",
    "project_country = project_country.replace({'List of Host countries (ISO 2)': 'AG'}, {'List of Host countries (ISO 2)': 'Antigua and Barbuda'}, regex=True)\n",
    "project_country = project_country.replace({'List of Host countries (ISO 2)': 'AI'}, {'List of Host countries (ISO 2)': 'Anguilla'}, regex=True)\n",
    "project_country = project_country.replace({'List of Host countries (ISO 2)': 'AL'}, {'List of Host countries (ISO 2)': 'Albania'}, regex=True)\n",
    "project_country = project_country.replace({'List of Host countries (ISO 2)': 'AM'}, {'List of Host countries (ISO 2)': 'Armenia'}, regex=True)\n",
    "project_country = project_country.replace({'List of Host countries (ISO 2)': 'AN'}, {'List of Host countries (ISO 2)': 'Netherlands Antilles'}, regex=True)\n",
    "project_country = project_country.replace({'List of Host countries (ISO 2)': 'AO'}, {'List of Host countries (ISO 2)': 'Angola'}, regex=True)\n",
    "project_country = project_country.replace({'List of Host countries (ISO 2)': 'AQ'}, {'List of Host countries (ISO 2)': 'Antarctica'}, regex=True)\n",
    "project_country = project_country.replace({'List of Host countries (ISO 2)': 'AR'}, {'List of Host countries (ISO 2)': 'Argentina'}, regex=True)\n",
    "project_country = project_country.replace({'List of Host countries (ISO 2)': 'AS'}, {'List of Host countries (ISO 2)': 'American Samoa'}, regex=True)\n",
    "project_country = project_country.replace({'List of Host countries (ISO 2)': 'AT'}, {'List of Host countries (ISO 2)': 'Austria'}, regex=True)\n",
    "project_country = project_country.replace({'List of Host countries (ISO 2)': 'AU'}, {'List of Host countries (ISO 2)': 'Australia'}, regex=True)\n",
    "project_country = project_country.replace({'List of Host countries (ISO 2)': 'AW'}, {'List of Host countries (ISO 2)': 'Aruba'}, regex=True)\n",
    "project_country = project_country.replace({'List of Host countries (ISO 2)': 'AZ'}, {'List of Host countries (ISO 2)': 'Azerbaijan'}, regex=True)\n",
    "project_country = project_country.replace({'List of Host countries (ISO 2)': 'BA'}, {'List of Host countries (ISO 2)': 'Bosnia and Herzegovina'}, regex=True)\n",
    "project_country = project_country.replace({'List of Host countries (ISO 2)': 'BB'}, {'List of Host countries (ISO 2)': 'Barbados'}, regex=True)\n",
    "project_country = project_country.replace({'List of Host countries (ISO 2)': 'BD'}, {'List of Host countries (ISO 2)': 'Bangladesh'}, regex=True)\n",
    "project_country = project_country.replace({'List of Host countries (ISO 2)': 'BE'}, {'List of Host countries (ISO 2)': 'Belgium'}, regex=True)\n",
    "project_country = project_country.replace({'List of Host countries (ISO 2)': 'BF'}, {'List of Host countries (ISO 2)': 'Burkina Faso'}, regex=True)\n",
    "project_country = project_country.replace({'List of Host countries (ISO 2)': 'BG'}, {'List of Host countries (ISO 2)': 'Bulgaria'}, regex=True)\n",
    "project_country = project_country.replace({'List of Host countries (ISO 2)': 'BH'}, {'List of Host countries (ISO 2)': 'Bahrain'}, regex=True)\n",
    "project_country = project_country.replace({'List of Host countries (ISO 2)': 'BI'}, {'List of Host countries (ISO 2)': 'Burundi'}, regex=True)\n",
    "project_country = project_country.replace({'List of Host countries (ISO 2)': 'BJ'}, {'List of Host countries (ISO 2)': 'Benin'}, regex=True)\n",
    "project_country = project_country.replace({'List of Host countries (ISO 2)': 'BM'}, {'List of Host countries (ISO 2)': 'Bermuda'}, regex=True)\n",
    "project_country = project_country.replace({'List of Host countries (ISO 2)': 'BN'}, {'List of Host countries (ISO 2)': 'Brunei Darussalam'}, regex=True)\n",
    "project_country = project_country.replace({'List of Host countries (ISO 2)': 'BO'}, {'List of Host countries (ISO 2)': 'Bolivia'}, regex=True)\n",
    "project_country = project_country.replace({'List of Host countries (ISO 2)': 'BR'}, {'List of Host countries (ISO 2)': 'Brazil'}, regex=True)\n",
    "project_country = project_country.replace({'List of Host countries (ISO 2)': 'BS'}, {'List of Host countries (ISO 2)': 'Bahamas'}, regex=True)\n",
    "project_country = project_country.replace({'List of Host countries (ISO 2)': 'BT'}, {'List of Host countries (ISO 2)': 'Bhutan'}, regex=True)\n",
    "project_country = project_country.replace({'List of Host countries (ISO 2)': 'BV'}, {'List of Host countries (ISO 2)': 'Bouvet Island'}, regex=True)\n",
    "project_country = project_country.replace({'List of Host countries (ISO 2)': 'BW'}, {'List of Host countries (ISO 2)': 'Botswana'}, regex=True)\n",
    "project_country = project_country.replace({'List of Host countries (ISO 2)': 'BY'}, {'List of Host countries (ISO 2)': 'Belarus'}, regex=True)\n",
    "project_country = project_country.replace({'List of Host countries (ISO 2)': 'BZ'}, {'List of Host countries (ISO 2)': 'Belize'}, regex=True)\n",
    "project_country = project_country.replace({'List of Host countries (ISO 2)': 'CA'}, {'List of Host countries (ISO 2)': 'Canada'}, regex=True)\n",
    "project_country = project_country.replace({'List of Host countries (ISO 2)': 'CC'}, {'List of Host countries (ISO 2)': 'Cocos Islands'}, regex=True)\n",
    "project_country = project_country.replace({'List of Host countries (ISO 2)': 'CD'}, {'List of Host countries (ISO 2)': 'Democratic Republic of the Congo'}, regex=True)\n",
    "project_country = project_country.replace({'List of Host countries (ISO 2)': 'CF'}, {'List of Host countries (ISO 2)': 'Central African Republic'}, regex=True)\n",
    "project_country = project_country.replace({'List of Host countries (ISO 2)': 'CG'}, {'List of Host countries (ISO 2)': 'Congo'}, regex=True)\n",
    "project_country = project_country.replace({'List of Host countries (ISO 2)': 'CH'}, {'List of Host countries (ISO 2)': 'Switzerland'}, regex=True)\n",
    "project_country = project_country.replace({'List of Host countries (ISO 2)': 'CI'}, {'List of Host countries (ISO 2)': 'Cote d Ivoire'}, regex=True)\n",
    "project_country = project_country.replace({'List of Host countries (ISO 2)': 'CK'}, {'List of Host countries (ISO 2)': 'Cook Islands'}, regex=True)\n",
    "project_country = project_country.replace({'List of Host countries (ISO 2)': 'CL'}, {'List of Host countries (ISO 2)': 'Chile'}, regex=True)\n",
    "project_country = project_country.replace({'List of Host countries (ISO 2)': 'CM'}, {'List of Host countries (ISO 2)': 'Camaroon'}, regex=True)\n",
    "project_country = project_country.replace({'List of Host countries (ISO 2)': 'CN'}, {'List of Host countries (ISO 2)': 'China'}, regex=True)\n",
    "project_country = project_country.replace({'List of Host countries (ISO 2)': 'CO'}, {'List of Host countries (ISO 2)': 'Colombia'}, regex=True)\n",
    "project_country = project_country.replace({'List of Host countries (ISO 2)': 'CR'}, {'List of Host countries (ISO 2)': 'Costa Rica'}, regex=True)\n",
    "project_country = project_country.replace({'List of Host countries (ISO 2)': 'CT'}, {'List of Host countries (ISO 2)': 'Canton and Elderbury Islands'}, regex=True)\n",
    "project_country = project_country.replace({'List of Host countries (ISO 2)': 'CU'}, {'List of Host countries (ISO 2)': 'Cuba'}, regex=True)\n",
    "project_country = project_country.replace({'List of Host countries (ISO 2)': 'CV'}, {'List of Host countries (ISO 2)': 'Cape Verde'}, regex=True)\n",
    "project_country = project_country.replace({'List of Host countries (ISO 2)': 'CX'}, {'List of Host countries (ISO 2)': 'Christmas Island'}, regex=True)\n",
    "project_country = project_country.replace({'List of Host countries (ISO 2)': 'CY'}, {'List of Host countries (ISO 2)': 'Cyprus'}, regex=True)\n",
    "project_country = project_country.replace({'List of Host countries (ISO 2)': 'CZ'}, {'List of Host countries (ISO 2)': 'Czech Republic'}, regex=True)\n",
    "project_country = project_country.replace({'List of Host countries (ISO 2)': 'DE'}, {'List of Host countries (ISO 2)': 'Germany'}, regex=True)\n",
    "project_country = project_country.replace({'List of Host countries (ISO 2)': 'DJ'}, {'List of Host countries (ISO 2)': 'Djibouti'}, regex=True)\n",
    "project_country = project_country.replace({'List of Host countries (ISO 2)': 'DK'}, {'List of Host countries (ISO 2)': 'Denmark'}, regex=True)\n",
    "project_country = project_country.replace({'List of Host countries (ISO 2)': 'DM'}, {'List of Host countries (ISO 2)': 'Dominica'}, regex=True)\n",
    "project_country = project_country.replace({'List of Host countries (ISO 2)': 'DO'}, {'List of Host countries (ISO 2)': 'Dominican Republic'}, regex=True)\n",
    "project_country = project_country.replace({'List of Host countries (ISO 2)': 'DZ'}, {'List of Host countries (ISO 2)': 'Algeria'}, regex=True)\n",
    "project_country = project_country.replace({'List of Host countries (ISO 2)': 'EC'}, {'List of Host countries (ISO 2)': 'Ecuador'}, regex=True)\n",
    "project_country = project_country.replace({'List of Host countries (ISO 2)': 'EE'}, {'List of Host countries (ISO 2)': 'Estonia'}, regex=True)\n",
    "project_country = project_country.replace({'List of Host countries (ISO 2)': 'EG'}, {'List of Host countries (ISO 2)': 'Egypt'}, regex=True)\n",
    "project_country = project_country.replace({'List of Host countries (ISO 2)': 'ER'}, {'List of Host countries (ISO 2)': 'Eritria'}, regex=True)\n",
    "project_country = project_country.replace({'List of Host countries (ISO 2)': 'ES'}, {'List of Host countries (ISO 2)': 'Spain'}, regex=True)\n",
    "project_country = project_country.replace({'List of Host countries (ISO 2)': 'ET'}, {'List of Host countries (ISO 2)': 'Ethiopia'}, regex=True)\n",
    "project_country = project_country.replace({'List of Host countries (ISO 2)': 'FI'}, {'List of Host countries (ISO 2)': 'Finland'}, regex=True)\n",
    "project_country = project_country.replace({'List of Host countries (ISO 2)': 'FJ'}, {'List of Host countries (ISO 2)': 'Fiji'}, regex=True)\n",
    "project_country = project_country.replace({'List of Host countries (ISO 2)': 'FK'}, {'List of Host countries (ISO 2)': 'Falkland Islands'}, regex=True)\n",
    "project_country = project_country.replace({'List of Host countries (ISO 2)': 'FM'}, {'List of Host countries (ISO 2)': 'Federal States of Micronesia'}, regex=True)\n",
    "project_country = project_country.replace({'List of Host countries (ISO 2)': 'FO'}, {'List of Host countries (ISO 2)': 'Faroe Islands'}, regex=True)\n",
    "project_country = project_country.replace({'List of Host countries (ISO 2)': 'FR'}, {'List of Host countries (ISO 2)': 'France'}, regex=True)\n",
    "project_country = project_country.replace({'List of Host countries (ISO 2)': 'GA'}, {'List of Host countries (ISO 2)': 'Gabon'}, regex=True)\n",
    "project_country = project_country.replace({'List of Host countries (ISO 2)': 'GB'}, {'List of Host countries (ISO 2)': 'United Kingdom of Great Britain and Northern Ireland'}, regex=True)\n",
    "project_country = project_country.replace({'List of Host countries (ISO 2)': 'GD'}, {'List of Host countries (ISO 2)': 'Grenada'}, regex=True)\n",
    "project_country = project_country.replace({'List of Host countries (ISO 2)': 'GE'}, {'List of Host countries (ISO 2)': 'Georgia'}, regex=True)\n",
    "project_country = project_country.replace({'List of Host countries (ISO 2)': 'GF'}, {'List of Host countries (ISO 2)': 'French Guiana'}, regex=True)\n",
    "project_country = project_country.replace({'List of Host countries (ISO 2)': 'GH'}, {'List of Host countries (ISO 2)': 'Ghana'}, regex=True)\n",
    "project_country = project_country.replace({'List of Host countries (ISO 2)': 'GL'}, {'List of Host countries (ISO 2)': 'Greenland'}, regex=True)\n",
    "project_country = project_country.replace({'List of Host countries (ISO 2)': 'GM'}, {'List of Host countries (ISO 2)': 'Gambia'}, regex=True)\n",
    "project_country = project_country.replace({'List of Host countries (ISO 2)': 'GN'}, {'List of Host countries (ISO 2)': 'Guinea'}, regex=True)\n",
    "project_country = project_country.replace({'List of Host countries (ISO 2)': 'GP'}, {'List of Host countries (ISO 2)': 'Guadaloupe'}, regex=True)\n",
    "project_country = project_country.replace({'List of Host countries (ISO 2)': 'GQ'}, {'List of Host countries (ISO 2)': 'Equatorial Guinea'}, regex=True)\n",
    "project_country = project_country.replace({'List of Host countries (ISO 2)': 'GR'}, {'List of Host countries (ISO 2)': 'Greece'}, regex=True)\n",
    "project_country = project_country.replace({'List of Host countries (ISO 2)': 'GS'}, {'List of Host countries (ISO 2)': 'South Georgia and South Sandwich Islands'}, regex=True)\n",
    "project_country = project_country.replace({'List of Host countries (ISO 2)': 'GT'}, {'List of Host countries (ISO 2)': 'Guatemala'}, regex=True)\n",
    "project_country = project_country.replace({'List of Host countries (ISO 2)': 'GU'}, {'List of Host countries (ISO 2)': 'Guam'}, regex=True)\n",
    "project_country = project_country.replace({'List of Host countries (ISO 2)': 'GW'}, {'List of Host countries (ISO 2)': 'Guinea-Bissau'}, regex=True)\n",
    "project_country = project_country.replace({'List of Host countries (ISO 2)': 'GY'}, {'List of Host countries (ISO 2)': 'Guyana'}, regex=True)\n",
    "project_country = project_country.replace({'List of Host countries (ISO 2)': 'HK'}, {'List of Host countries (ISO 2)': 'Hong Kong'}, regex=True)\n",
    "project_country = project_country.replace({'List of Host countries (ISO 2)': 'HM'}, {'List of Host countries (ISO 2)': 'Heard and McDonald Islands'}, regex=True)\n",
    "project_country = project_country.replace({'List of Host countries (ISO 2)': 'HN'}, {'List of Host countries (ISO 2)': 'Honduras'}, regex=True)\n",
    "project_country = project_country.replace({'List of Host countries (ISO 2)': 'HR'}, {'List of Host countries (ISO 2)': 'Croatia'}, regex=True)\n",
    "project_country = project_country.replace({'List of Host countries (ISO 2)': 'HT'}, {'List of Host countries (ISO 2)': 'Haiti'}, regex=True)\n",
    "project_country = project_country.replace({'List of Host countries (ISO 2)': 'HU'}, {'List of Host countries (ISO 2)': 'Hungary'}, regex=True)\n",
    "project_country = project_country.replace({'List of Host countries (ISO 2)': 'ID'}, {'List of Host countries (ISO 2)': 'Indonesia'}, regex=True)\n",
    "project_country = project_country.replace({'List of Host countries (ISO 2)': 'IE'}, {'List of Host countries (ISO 2)': 'Ireland'}, regex=True)\n",
    "project_country = project_country.replace({'List of Host countries (ISO 2)': 'IL'}, {'List of Host countries (ISO 2)': 'Israel'}, regex=True)\n",
    "project_country = project_country.replace({'List of Host countries (ISO 2)': 'IN'}, {'List of Host countries (ISO 2)': 'India'}, regex=True)\n",
    "project_country = project_country.replace({'List of Host countries (ISO 2)': 'IQ'}, {'List of Host countries (ISO 2)': 'Iraq'}, regex=True)\n",
    "project_country = project_country.replace({'List of Host countries (ISO 2)': 'IR'}, {'List of Host countries (ISO 2)': 'Iran'}, regex=True)\n",
    "project_country = project_country.replace({'List of Host countries (ISO 2)': 'IS'}, {'List of Host countries (ISO 2)': 'Iceland'}, regex=True)\n",
    "project_country = project_country.replace({'List of Host countries (ISO 2)': 'IT'}, {'List of Host countries (ISO 2)': 'Italy'}, regex=True)\n",
    "project_country = project_country.replace({'List of Host countries (ISO 2)': 'JM'}, {'List of Host countries (ISO 2)': 'Jamaica'}, regex=True)\n",
    "project_country = project_country.replace({'List of Host countries (ISO 2)': 'JO'}, {'List of Host countries (ISO 2)': 'Jordan'}, regex=True)\n",
    "project_country = project_country.replace({'List of Host countries (ISO 2)': 'JP'}, {'List of Host countries (ISO 2)': 'Japan'}, regex=True)\n",
    "project_country = project_country.replace({'List of Host countries (ISO 2)': 'JT'}, {'List of Host countries (ISO 2)': 'Johnston Island'}, regex=True)\n",
    "project_country = project_country.replace({'List of Host countries (ISO 2)': 'KE'}, {'List of Host countries (ISO 2)': 'Kenya'}, regex=True)\n",
    "project_country = project_country.replace({'List of Host countries (ISO 2)': 'KG'}, {'List of Host countries (ISO 2)': 'Kyrgyzstan'}, regex=True)\n",
    "project_country = project_country.replace({'List of Host countries (ISO 2)': 'KH'}, {'List of Host countries (ISO 2)': 'Cambodia'}, regex=True)\n",
    "project_country = project_country.replace({'List of Host countries (ISO 2)': 'KI'}, {'List of Host countries (ISO 2)': 'Kiribati'}, regex=True)\n",
    "project_country = project_country.replace({'List of Host countries (ISO 2)': 'KM'}, {'List of Host countries (ISO 2)': 'Comoros'}, regex=True)\n",
    "project_country = project_country.replace({'List of Host countries (ISO 2)': 'KN'}, {'List of Host countries (ISO 2)': 'Saint Kitts and Nevis'}, regex=True)\n",
    "project_country = project_country.replace({'List of Host countries (ISO 2)': 'KP'}, {'List of Host countries (ISO 2)': 'Democratic Peoples Republic of Korea'}, regex=True)\n",
    "project_country = project_country.replace({'List of Host countries (ISO 2)': 'KR'}, {'List of Host countries (ISO 2)': 'Republic of Korea'}, regex=True)\n",
    "project_country = project_country.replace({'List of Host countries (ISO 2)': 'KW'}, {'List of Host countries (ISO 2)': 'Kuwait'}, regex=True)\n",
    "project_country = project_country.replace({'List of Host countries (ISO 2)': 'KY'}, {'List of Host countries (ISO 2)': 'Cayman Islands'}, regex=True)\n",
    "project_country = project_country.replace({'List of Host countries (ISO 2)': 'KZ'}, {'List of Host countries (ISO 2)': 'Kazakhstan'}, regex=True)\n",
    "project_country = project_country.replace({'List of Host countries (ISO 2)': 'LA'}, {'List of Host countries (ISO 2)': 'Lao Peoples Democratic Republic'}, regex=True)\n",
    "project_country = project_country.replace({'List of Host countries (ISO 2)': 'LB'}, {'List of Host countries (ISO 2)': 'Lebanon'}, regex=True)\n",
    "project_country = project_country.replace({'List of Host countries (ISO 2)': 'LC'}, {'List of Host countries (ISO 2)': 'Saint Lucia'}, regex=True)\n",
    "project_country = project_country.replace({'List of Host countries (ISO 2)': 'LI'}, {'List of Host countries (ISO 2)': 'Liechtenstein'}, regex=True)\n",
    "project_country = project_country.replace({'List of Host countries (ISO 2)': 'LK'}, {'List of Host countries (ISO 2)': 'Sri Lanka'}, regex=True)\n",
    "project_country = project_country.replace({'List of Host countries (ISO 2)': 'LR'}, {'List of Host countries (ISO 2)': 'Liberia'}, regex=True)\n",
    "project_country = project_country.replace({'List of Host countries (ISO 2)': 'LS'}, {'List of Host countries (ISO 2)': 'Lesotho'}, regex=True)\n",
    "project_country = project_country.replace({'List of Host countries (ISO 2)': 'LT'}, {'List of Host countries (ISO 2)': 'Lithuania'}, regex=True)\n",
    "project_country = project_country.replace({'List of Host countries (ISO 2)': 'LU'}, {'List of Host countries (ISO 2)': 'Luxembourg'}, regex=True)\n",
    "project_country = project_country.replace({'List of Host countries (ISO 2)': 'LV'}, {'List of Host countries (ISO 2)': 'Latvia'}, regex=True)\n",
    "project_country = project_country.replace({'List of Host countries (ISO 2)': 'LY'}, {'List of Host countries (ISO 2)': 'Libia'}, regex=True)\n",
    "project_country = project_country.replace({'List of Host countries (ISO 2)': 'MA'}, {'List of Host countries (ISO 2)': 'Morocco'}, regex=True)\n",
    "project_country = project_country.replace({'List of Host countries (ISO 2)': 'MC'}, {'List of Host countries (ISO 2)': 'Monaco'}, regex=True)\n",
    "project_country = project_country.replace({'List of Host countries (ISO 2)': 'MD'}, {'List of Host countries (ISO 2)': 'Republic of Moldova'}, regex=True)\n",
    "project_country = project_country.replace({'List of Host countries (ISO 2)': 'ME'}, {'List of Host countries (ISO 2)': 'Montenegro'}, regex=True)\n",
    "project_country = project_country.replace({'List of Host countries (ISO 2)': 'MG'}, {'List of Host countries (ISO 2)': 'Madagascar'}, regex=True)\n",
    "project_country = project_country.replace({'List of Host countries (ISO 2)': 'MH'}, {'List of Host countries (ISO 2)': 'Marshall Islands'}, regex=True)\n",
    "project_country = project_country.replace({'List of Host countries (ISO 2)': 'MI'}, {'List of Host countries (ISO 2)': 'Midway Islands'}, regex=True)\n",
    "project_country = project_country.replace({'List of Host countries (ISO 2)': 'MK'}, {'List of Host countries (ISO 2)': 'The Former Yugoslav Republic of Macedonia'}, regex=True)\n",
    "project_country = project_country.replace({'List of Host countries (ISO 2)': 'ML'}, {'List of Host countries (ISO 2)': 'Mali'}, regex=True)\n",
    "project_country = project_country.replace({'List of Host countries (ISO 2)': 'MM'}, {'List of Host countries (ISO 2)': 'Myanmar'}, regex=True)\n",
    "project_country = project_country.replace({'List of Host countries (ISO 2)': 'MN'}, {'List of Host countries (ISO 2)': 'Mongolia'}, regex=True)\n",
    "project_country = project_country.replace({'List of Host countries (ISO 2)': 'MO'}, {'List of Host countries (ISO 2)': 'Macau'}, regex=True)\n",
    "project_country = project_country.replace({'List of Host countries (ISO 2)': 'MP'}, {'List of Host countries (ISO 2)': 'Northern Mariana Islands'}, regex=True)\n",
    "project_country = project_country.replace({'List of Host countries (ISO 2)': 'MQ'}, {'List of Host countries (ISO 2)': 'Martinique'}, regex=True)\n",
    "project_country = project_country.replace({'List of Host countries (ISO 2)': 'MR'}, {'List of Host countries (ISO 2)': 'Mauritania'}, regex=True)\n",
    "project_country = project_country.replace({'List of Host countries (ISO 2)': 'MS'}, {'List of Host countries (ISO 2)': 'Montserrat'}, regex=True)\n",
    "project_country = project_country.replace({'List of Host countries (ISO 2)': 'MT'}, {'List of Host countries (ISO 2)': 'Malta'}, regex=True)\n",
    "project_country = project_country.replace({'List of Host countries (ISO 2)': 'MU'}, {'List of Host countries (ISO 2)': 'Mauritius'}, regex=True)\n",
    "project_country = project_country.replace({'List of Host countries (ISO 2)': 'MD'}, {'List of Host countries (ISO 2)': 'Maldives'}, regex=True)\n",
    "project_country = project_country.replace({'List of Host countries (ISO 2)': 'MW'}, {'List of Host countries (ISO 2)': 'Malawi'}, regex=True)\n",
    "project_country = project_country.replace({'List of Host countries (ISO 2)': 'MX'}, {'List of Host countries (ISO 2)': 'Mexico'}, regex=True)\n",
    "project_country = project_country.replace({'List of Host countries (ISO 2)': 'MY'}, {'List of Host countries (ISO 2)': 'Malaysia'}, regex=True)\n",
    "project_country = project_country.replace({'List of Host countries (ISO 2)': 'MZ'}, {'List of Host countries (ISO 2)': 'Mozambique'}, regex=True)\n",
    "project_country = project_country.replace({'List of Host countries (ISO 2)': 'NA'}, {'List of Host countries (ISO 2)': 'Namibia'}, regex=True)\n",
    "project_country = project_country.replace({'List of Host countries (ISO 2)': 'NC'}, {'List of Host countries (ISO 2)': 'New Caledonia'}, regex=True)\n",
    "project_country = project_country.replace({'List of Host countries (ISO 2)': 'NE'}, {'List of Host countries (ISO 2)': 'Niger'}, regex=True)\n",
    "project_country = project_country.replace({'List of Host countries (ISO 2)': 'NF'}, {'List of Host countries (ISO 2)': 'Norfolk Island'}, regex=True)\n",
    "project_country = project_country.replace({'List of Host countries (ISO 2)': 'NG'}, {'List of Host countries (ISO 2)': 'Nigeria'}, regex=True)\n",
    "project_country = project_country.replace({'List of Host countries (ISO 2)': 'NI'}, {'List of Host countries (ISO 2)': 'Nicaragua'}, regex=True)\n",
    "project_country = project_country.replace({'List of Host countries (ISO 2)': 'NL'}, {'List of Host countries (ISO 2)': 'Netherlands'}, regex=True)\n",
    "project_country = project_country.replace({'List of Host countries (ISO 2)': 'NO'}, {'List of Host countries (ISO 2)': 'Norway'}, regex=True)\n",
    "project_country = project_country.replace({'List of Host countries (ISO 2)': 'NP'}, {'List of Host countries (ISO 2)': 'Nepal'}, regex=True)\n",
    "project_country = project_country.replace({'List of Host countries (ISO 2)': 'NR'}, {'List of Host countries (ISO 2)': 'Nauru'}, regex=True)\n",
    "project_country = project_country.replace({'List of Host countries (ISO 2)': 'NU'}, {'List of Host countries (ISO 2)': 'Niue'}, regex=True)\n",
    "project_country = project_country.replace({'List of Host countries (ISO 2)': 'NZ'}, {'List of Host countries (ISO 2)': 'New Zealand'}, regex=True)\n",
    "project_country = project_country.replace({'List of Host countries (ISO 2)': 'OM'}, {'List of Host countries (ISO 2)': 'Oman'}, regex=True)\n",
    "project_country = project_country.replace({'List of Host countries (ISO 2)': 'PA'}, {'List of Host countries (ISO 2)': 'Panama'}, regex=True)\n",
    "project_country = project_country.replace({'List of Host countries (ISO 2)': 'PE'}, {'List of Host countries (ISO 2)': 'Peru'}, regex=True)\n",
    "project_country = project_country.replace({'List of Host countries (ISO 2)': 'PF'}, {'List of Host countries (ISO 2)': 'French Polynesia'}, regex=True)\n",
    "project_country = project_country.replace({'List of Host countries (ISO 2)': 'PG'}, {'List of Host countries (ISO 2)': 'Papua New Guinea'}, regex=True)\n",
    "project_country = project_country.replace({'List of Host countries (ISO 2)': 'PH'}, {'List of Host countries (ISO 2)': 'Philippines'}, regex=True)\n",
    "project_country = project_country.replace({'List of Host countries (ISO 2)': 'PK'}, {'List of Host countries (ISO 2)': 'Pakistan'}, regex=True)\n",
    "project_country = project_country.replace({'List of Host countries (ISO 2)': 'PL'}, {'List of Host countries (ISO 2)': 'Poland'}, regex=True)\n",
    "project_country = project_country.replace({'List of Host countries (ISO 2)': 'PM'}, {'List of Host countries (ISO 2)': 'St Pierre and Miquelon'}, regex=True)\n",
    "project_country = project_country.replace({'List of Host countries (ISO 2)': 'PN'}, {'List of Host countries (ISO 2)': 'Pitcairn'}, regex=True)\n",
    "project_country = project_country.replace({'List of Host countries (ISO 2)': 'PR'}, {'List of Host countries (ISO 2)': 'Puerto Rico'}, regex=True)\n",
    "project_country = project_country.replace({'List of Host countries (ISO 2)': 'PT'}, {'List of Host countries (ISO 2)': 'Portugal'}, regex=True)\n",
    "project_country = project_country.replace({'List of Host countries (ISO 2)': 'PW'}, {'List of Host countries (ISO 2)': 'Palau'}, regex=True)\n",
    "project_country = project_country.replace({'List of Host countries (ISO 2)': 'PY'}, {'List of Host countries (ISO 2)': 'Paraguay'}, regex=True)\n",
    "project_country = project_country.replace({'List of Host countries (ISO 2)': 'QA'}, {'List of Host countries (ISO 2)': 'Qatar'}, regex=True)\n",
    "project_country = project_country.replace({'List of Host countries (ISO 2)': 'RE'}, {'List of Host countries (ISO 2)': 'Reunion'}, regex=True)\n",
    "project_country = project_country.replace({'List of Host countries (ISO 2)': 'RO'}, {'List of Host countries (ISO 2)': 'Romania'}, regex=True)\n",
    "project_country = project_country.replace({'List of Host countries (ISO 2)': 'RS'}, {'List of Host countries (ISO 2)': 'Serbia'}, regex=True)\n",
    "project_country = project_country.replace({'List of Host countries (ISO 2)': 'RU'}, {'List of Host countries (ISO 2)': 'Russian Federation'}, regex=True)\n",
    "project_country = project_country.replace({'List of Host countries (ISO 2)': 'RW'}, {'List of Host countries (ISO 2)': 'Rwanda'}, regex=True)\n",
    "project_country = project_country.replace({'List of Host countries (ISO 2)': 'SA'}, {'List of Host countries (ISO 2)': 'Saudi Arabia'}, regex=True)\n",
    "project_country = project_country.replace({'List of Host countries (ISO 2)': 'SB'}, {'List of Host countries (ISO 2)': 'Solomon Islands'}, regex=True)\n",
    "project_country = project_country.replace({'List of Host countries (ISO 2)': 'SC'}, {'List of Host countries (ISO 2)': 'Seychelles'}, regex=True)\n",
    "project_country = project_country.replace({'List of Host countries (ISO 2)': 'SD'}, {'List of Host countries (ISO 2)': 'Sudan'}, regex=True)\n",
    "project_country = project_country.replace({'List of Host countries (ISO 2)': 'SE'}, {'List of Host countries (ISO 2)': 'Swedan'}, regex=True)\n",
    "project_country = project_country.replace({'List of Host countries (ISO 2)': 'SG'}, {'List of Host countries (ISO 2)': 'Singapore'}, regex=True)\n",
    "project_country = project_country.replace({'List of Host countries (ISO 2)': 'SH'}, {'List of Host countries (ISO 2)': 'Saint Helena'}, regex=True)\n",
    "project_country = project_country.replace({'List of Host countries (ISO 2)': 'SI'}, {'List of Host countries (ISO 2)': 'Slovenia'}, regex=True)\n",
    "project_country = project_country.replace({'List of Host countries (ISO 2)': 'SJ'}, {'List of Host countries (ISO 2)': 'Svalbard and Jan Mayen Islands'}, regex=True)\n",
    "project_country = project_country.replace({'List of Host countries (ISO 2)': 'SK'}, {'List of Host countries (ISO 2)': 'Slovakia'}, regex=True)\n",
    "project_country = project_country.replace({'List of Host countries (ISO 2)': 'SL'}, {'List of Host countries (ISO 2)': 'Sierra Leone'}, regex=True)\n",
    "project_country = project_country.replace({'List of Host countries (ISO 2)': 'SM'}, {'List of Host countries (ISO 2)': 'San Marino'}, regex=True)\n",
    "project_country = project_country.replace({'List of Host countries (ISO 2)': 'SN'}, {'List of Host countries (ISO 2)': 'Senegal'}, regex=True)\n",
    "project_country = project_country.replace({'List of Host countries (ISO 2)': 'SO'}, {'List of Host countries (ISO 2)': 'Somalia'}, regex=True)\n",
    "project_country = project_country.replace({'List of Host countries (ISO 2)': 'SR'}, {'List of Host countries (ISO 2)': 'Surinami'}, regex=True)\n",
    "project_country = project_country.replace({'List of Host countries (ISO 2)': 'SS'}, {'List of Host countries (ISO 2)': 'Republic of South Sudan'}, regex=True)\n",
    "project_country = project_country.replace({'List of Host countries (ISO 2)': 'ST'}, {'List of Host countries (ISO 2)': 'Sao Tome and Principe'}, regex=True)\n",
    "project_country = project_country.replace({'List of Host countries (ISO 2)': 'SV'}, {'List of Host countries (ISO 2)': 'El Salvador'}, regex=True)\n",
    "project_country = project_country.replace({'List of Host countries (ISO 2)': 'SY'}, {'List of Host countries (ISO 2)': 'Syrian Arab Republic'}, regex=True)\n",
    "project_country = project_country.replace({'List of Host countries (ISO 2)': 'SZ'}, {'List of Host countries (ISO 2)': 'Swaziland'}, regex=True)\n",
    "project_country = project_country.replace({'List of Host countries (ISO 2)': 'TC'}, {'List of Host countries (ISO 2)': 'Turks and Caicos Islands'}, regex=True)\n",
    "project_country = project_country.replace({'List of Host countries (ISO 2)': 'TD'}, {'List of Host countries (ISO 2)': 'Chad'}, regex=True)\n",
    "project_country = project_country.replace({'List of Host countries (ISO 2)': 'TG'}, {'List of Host countries (ISO 2)': 'Togo'}, regex=True)\n",
    "project_country = project_country.replace({'List of Host countries (ISO 2)': 'TH'}, {'List of Host countries (ISO 2)': 'Thailand'}, regex=True)\n",
    "project_country = project_country.replace({'List of Host countries (ISO 2)': 'TJ'}, {'List of Host countries (ISO 2)': 'Tajikistan'}, regex=True)\n",
    "project_country = project_country.replace({'List of Host countries (ISO 2)': 'TK'}, {'List of Host countries (ISO 2)': 'Tokelau'}, regex=True)\n",
    "project_country = project_country.replace({'List of Host countries (ISO 2)': 'TL'}, {'List of Host countries (ISO 2)': 'Timor-Leste'}, regex=True)\n",
    "project_country = project_country.replace({'List of Host countries (ISO 2)': 'TM'}, {'List of Host countries (ISO 2)': 'Turkmenistan'}, regex=True)\n",
    "project_country = project_country.replace({'List of Host countries (ISO 2)': 'TN'}, {'List of Host countries (ISO 2)': 'Tunisia'}, regex=True)\n",
    "project_country = project_country.replace({'List of Host countries (ISO 2)': 'TO'}, {'List of Host countries (ISO 2)': 'Tonga'}, regex=True)\n",
    "project_country = project_country.replace({'List of Host countries (ISO 2)': 'TR'}, {'List of Host countries (ISO 2)': 'Turkey'}, regex=True)\n",
    "project_country = project_country.replace({'List of Host countries (ISO 2)': 'TT'}, {'List of Host countries (ISO 2)': 'Trinidad and Tobago'}, regex=True)\n",
    "project_country = project_country.replace({'List of Host countries (ISO 2)': 'TV'}, {'List of Host countries (ISO 2)': 'Tuvalu'}, regex=True)\n",
    "project_country = project_country.replace({'List of Host countries (ISO 2)': 'TZ'}, {'List of Host countries (ISO 2)': 'United Republic of Tanzania'}, regex=True)\n",
    "project_country = project_country.replace({'List of Host countries (ISO 2)': 'UA'}, {'List of Host countries (ISO 2)': 'Ukraine'}, regex=True)\n",
    "project_country = project_country.replace({'List of Host countries (ISO 2)': 'UG'}, {'List of Host countries (ISO 2)': 'Uganda'}, regex=True)\n",
    "project_country = project_country.replace({'List of Host countries (ISO 2)': 'UM'}, {'List of Host countries (ISO 2)': 'United States Minor Outlying Islands'}, regex=True)\n",
    "project_country = project_country.replace({'List of Host countries (ISO 2)': 'US'}, {'List of Host countries (ISO 2)': 'United States of America'}, regex=True)\n",
    "project_country = project_country.replace({'List of Host countries (ISO 2)': 'UY'}, {'List of Host countries (ISO 2)': 'Uruguay'}, regex=True)\n",
    "project_country = project_country.replace({'List of Host countries (ISO 2)': 'UZ'}, {'List of Host countries (ISO 2)': 'Uzbekistan'}, regex=True)\n",
    "project_country = project_country.replace({'List of Host countries (ISO 2)': 'VA'}, {'List of Host countries (ISO 2)': 'Holy See'}, regex=True)\n",
    "project_country = project_country.replace({'List of Host countries (ISO 2)': 'VC'}, {'List of Host countries (ISO 2)': 'Saint Vincent and the Grenadines'}, regex=True)\n",
    "project_country = project_country.replace({'List of Host countries (ISO 2)': 'VE'}, {'List of Host countries (ISO 2)': 'Venezuela'}, regex=True)\n",
    "project_country = project_country.replace({'List of Host countries (ISO 2)': 'VG'}, {'List of Host countries (ISO 2)': 'Virgin Islands - British'}, regex=True)\n",
    "project_country = project_country.replace({'List of Host countries (ISO 2)': 'VI'}, {'List of Host countries (ISO 2)': 'Virgin Islands - US'}, regex=True)\n",
    "project_country = project_country.replace({'List of Host countries (ISO 2)': 'VN'}, {'List of Host countries (ISO 2)': 'Viet Nam'}, regex=True)\n",
    "project_country = project_country.replace({'List of Host countries (ISO 2)': 'VU'}, {'List of Host countries (ISO 2)': 'Vanuatu'}, regex=True)\n",
    "project_country = project_country.replace({'List of Host countries (ISO 2)': 'WF'}, {'List of Host countries (ISO 2)': 'Wallis and Futuna Islands'}, regex=True)\n",
    "project_country = project_country.replace({'List of Host countries (ISO 2)': 'WK'}, {'List of Host countries (ISO 2)': 'Wake Island'}, regex=True)\n",
    "project_country = project_country.replace({'List of Host countries (ISO 2)': 'WS'}, {'List of Host countries (ISO 2)': 'Samoa'}, regex=True)\n",
    "project_country = project_country.replace({'List of Host countries (ISO 2)': 'YE'}, {'List of Host countries (ISO 2)': 'Yemen'}, regex=True)\n",
    "project_country = project_country.replace({'List of Host countries (ISO 2)': 'YT'}, {'List of Host countries (ISO 2)': 'Mayotte'}, regex=True)\n",
    "project_country = project_country.replace({'List of Host countries (ISO 2)': 'YU'}, {'List of Host countries (ISO 2)': 'Serbia and Montenegro'}, regex=True)\n",
    "project_country = project_country.replace({'List of Host countries (ISO 2)': 'ZA'}, {'List of Host countries (ISO 2)': 'South Africa'}, regex=True)\n",
    "project_country = project_country.replace({'List of Host countries (ISO 2)': 'ZM'}, {'List of Host countries (ISO 2)': 'Zambia'}, regex=True)\n",
    "project_country = project_country.replace({'List of Host countries (ISO 2)': 'ZW'}, {'List of Host countries (ISO 2)': 'Zimbabwe'}, regex=True)"
   ]
  },
  {
   "cell_type": "code",
   "execution_count": 6,
   "metadata": {
    "collapsed": false
   },
   "outputs": [],
   "source": [
    "project_country = project_country.sort_values('List of Host countries (ISO 2)')"
   ]
  },
  {
   "cell_type": "code",
   "execution_count": null,
   "metadata": {
    "collapsed": false
   },
   "outputs": [],
   "source": []
  },
  {
   "cell_type": "code",
   "execution_count": 31,
   "metadata": {
    "collapsed": false
   },
   "outputs": [],
   "source": [
    "# Create a Pandas Excel writer using XlsxWriter as the engine.\n",
    "writer = pd.ExcelWriter('cdm_projects_country.xlsx', engine='xlsxwriter')\n",
    "\n",
    "# Convert the dataframe to an XlsxWriter Excel object.\n",
    "project_country.to_excel(writer, sheet_name='Sheet1')\n",
    "\n",
    "# Close the Pandas Excel writer and output the Excel file.\n",
    "writer.save()"
   ]
  },
  {
   "cell_type": "code",
   "execution_count": 32,
   "metadata": {
    "collapsed": false
   },
   "outputs": [],
   "source": [
    "project_region = project_country.sort_values('Country Region')\n",
    "cols = ['Country Region']  + [col for col in project_country if col != 'Country Region']\n",
    "project_region = project_region[cols]"
   ]
  },
  {
   "cell_type": "code",
   "execution_count": null,
   "metadata": {
    "collapsed": true
   },
   "outputs": [],
   "source": []
  },
  {
   "cell_type": "code",
   "execution_count": 34,
   "metadata": {
    "collapsed": false,
    "hideOutput": true
   },
   "outputs": [],
   "source": [
    "# Create a Pandas Excel writer using XlsxWriter as the engine.\n",
    "writer = pd.ExcelWriter('cdm_projects_region.xlsx', engine='xlsxwriter')\n",
    "\n",
    "# Convert the dataframe to an XlsxWriter Excel object.\n",
    "project_region.to_excel(writer, sheet_name='Sheet1')\n",
    "\n",
    "# Close the Pandas Excel writer and output the Excel file.\n",
    "writer.save()"
   ]
  },
  {
   "cell_type": "code",
   "execution_count": null,
   "metadata": {
    "collapsed": true
   },
   "outputs": [],
   "source": []
  }
 ],
 "metadata": {
  "anaconda-cloud": {},
  "kernelspec": {
   "display_name": "Python [conda root]",
   "language": "python",
   "name": "conda-root-py"
  },
  "language_info": {
   "codemirror_mode": {
    "name": "ipython",
    "version": 2
   },
   "file_extension": ".py",
   "mimetype": "text/x-python",
   "name": "python",
   "nbconvert_exporter": "python",
   "pygments_lexer": "ipython2",
   "version": "2.7.12"
  }
 },
 "nbformat": 4,
 "nbformat_minor": 2
}
